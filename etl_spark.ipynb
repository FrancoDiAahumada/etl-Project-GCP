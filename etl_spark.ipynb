{
  "nbformat": 4,
  "nbformat_minor": 0,
  "metadata": {
    "colab": {
      "provenance": [],
      "authorship_tag": "ABX9TyM0Bfzfaqh5p/GL2q94SZV0",
      "include_colab_link": true
    },
    "kernelspec": {
      "name": "python3",
      "display_name": "Python 3"
    },
    "language_info": {
      "name": "python"
    }
  },
  "cells": [
    {
      "cell_type": "markdown",
      "metadata": {
        "id": "view-in-github",
        "colab_type": "text"
      },
      "source": [
        "<a href=\"https://colab.research.google.com/github/FrancoDiAahumada/etl-Project-GCP/blob/main/etl_spark.ipynb\" target=\"_parent\"><img src=\"https://colab.research.google.com/assets/colab-badge.svg\" alt=\"Open In Colab\"/></a>"
      ]
    },
    {
      "cell_type": "code",
      "execution_count": 1,
      "metadata": {
        "colab": {
          "base_uri": "https://localhost:8080/"
        },
        "id": "p0TtCpzgvdGy",
        "outputId": "2dcdae57-518c-4a87-c41b-2d71e7c40044"
      },
      "outputs": [
        {
          "output_type": "stream",
          "name": "stdout",
          "text": [
            "Requirement already satisfied: pyspark in /usr/local/lib/python3.12/dist-packages (3.5.1)\n",
            "Requirement already satisfied: py4j==0.10.9.7 in /usr/local/lib/python3.12/dist-packages (from pyspark) (0.10.9.7)\n"
          ]
        }
      ],
      "source": [
        "! pip install pyspark"
      ]
    },
    {
      "cell_type": "markdown",
      "source": [
        "# **Spark session y Librerias**"
      ],
      "metadata": {
        "id": "F1-x5FQWwTgS"
      }
    },
    {
      "cell_type": "code",
      "source": [
        "from pyspark.sql import SparkSession\n",
        "from pyspark import SparkContext\n",
        "from os import truncate\n",
        "from pyspark.sql.functions import lit\n",
        "\n",
        "\n",
        "\n",
        "\n",
        "Spsession = SparkSession.builder.appName('ETL').getOrCreate()"
      ],
      "metadata": {
        "id": "S_vkZvZHwXhR"
      },
      "execution_count": 2,
      "outputs": []
    },
    {
      "cell_type": "markdown",
      "source": [
        "# **Cargar el Spark Context**"
      ],
      "metadata": {
        "id": "pnSE3jUXx_Pn"
      }
    },
    {
      "cell_type": "code",
      "source": [
        "SpContext = Spsession.sparkContext"
      ],
      "metadata": {
        "id": "uyKxcKjywxq4"
      },
      "execution_count": 6,
      "outputs": []
    },
    {
      "cell_type": "markdown",
      "source": [
        "# **Cargar Datos**"
      ],
      "metadata": {
        "id": "oLKbt0Iq0X2S"
      }
    },
    {
      "cell_type": "code",
      "source": [
        "data = Spsession.read.csv('cars.csv', header=True, sep=';', inferSchema=True)\n",
        "data.show(10)"
      ],
      "metadata": {
        "colab": {
          "base_uri": "https://localhost:8080/"
        },
        "id": "K04RvPYC0eVW",
        "outputId": "e5d9d6dc-fe6e-4aa9-e042-8c0d7a550a10"
      },
      "execution_count": 8,
      "outputs": [
        {
          "output_type": "stream",
          "name": "stdout",
          "text": [
            "+--------------------+------+---------+------------+----------+------+------------+-----+------+\n",
            "|                 Car|   MPG|Cylinders|Displacement|Horsepower|Weight|Acceleration|Model|Origin|\n",
            "+--------------------+------+---------+------------+----------+------+------------+-----+------+\n",
            "|              STRING|DOUBLE|      INT|      DOUBLE|    DOUBLE|DOUBLE|      DOUBLE|  INT|   CAT|\n",
            "|Chevrolet Chevell...|  18.0|        8|       307.0|     130.0| 3504.|        12.0|   70|    US|\n",
            "|   Buick Skylark 320|  15.0|        8|       350.0|     165.0| 3693.|        11.5|   70|    US|\n",
            "|  Plymouth Satellite|  18.0|        8|       318.0|     150.0| 3436.|        11.0|   70|    US|\n",
            "|       AMC Rebel SST|  16.0|        8|       304.0|     150.0| 3433.|        12.0|   70|    US|\n",
            "|         Ford Torino|  17.0|        8|       302.0|     140.0| 3449.|        10.5|   70|    US|\n",
            "|    Ford Galaxie 500|  15.0|        8|       429.0|     198.0| 4341.|        10.0|   70|    US|\n",
            "|    Chevrolet Impala|  14.0|        8|       454.0|     220.0| 4354.|         9.0|   70|    US|\n",
            "|   Plymouth Fury iii|  14.0|        8|       440.0|     215.0| 4312.|         8.5|   70|    US|\n",
            "|    Pontiac Catalina|  14.0|        8|       455.0|     225.0| 4425.|        10.0|   70|    US|\n",
            "+--------------------+------+---------+------------+----------+------+------------+-----+------+\n",
            "only showing top 10 rows\n",
            "\n"
          ]
        }
      ]
    },
    {
      "cell_type": "markdown",
      "source": [
        "# **Informacion de los Datos**"
      ],
      "metadata": {
        "id": "fnEiLG9n1RTg"
      }
    },
    {
      "cell_type": "code",
      "source": [
        "data.printSchema()"
      ],
      "metadata": {
        "colab": {
          "base_uri": "https://localhost:8080/"
        },
        "id": "IPSOJfcq1VdS",
        "outputId": "750e328f-8e87-422e-becb-0656754e7cb3"
      },
      "execution_count": 9,
      "outputs": [
        {
          "output_type": "stream",
          "name": "stdout",
          "text": [
            "root\n",
            " |-- Car: string (nullable = true)\n",
            " |-- MPG: string (nullable = true)\n",
            " |-- Cylinders: string (nullable = true)\n",
            " |-- Displacement: string (nullable = true)\n",
            " |-- Horsepower: string (nullable = true)\n",
            " |-- Weight: string (nullable = true)\n",
            " |-- Acceleration: string (nullable = true)\n",
            " |-- Model: string (nullable = true)\n",
            " |-- Origin: string (nullable = true)\n",
            "\n"
          ]
        }
      ]
    },
    {
      "cell_type": "code",
      "source": [
        "data.describe().show()"
      ],
      "metadata": {
        "colab": {
          "base_uri": "https://localhost:8080/"
        },
        "id": "EsUBvH0M1cRB",
        "outputId": "d5cbfe0d-8625-4a13-de06-fdfbde130dfd"
      },
      "execution_count": 11,
      "outputs": [
        {
          "output_type": "stream",
          "name": "stdout",
          "text": [
            "+-------+--------------------+------------------+-----------------+------------------+-----------------+------------------+------------------+------------------+------+\n",
            "|summary|                 Car|               MPG|        Cylinders|      Displacement|       Horsepower|            Weight|      Acceleration|             Model|Origin|\n",
            "+-------+--------------------+------------------+-----------------+------------------+-----------------+------------------+------------------+------------------+------+\n",
            "|  count|                 407|               407|              407|               407|              407|               407|               407|               407|   407|\n",
            "|   mean|                NULL|23.051231527093602|5.475369458128079| 194.7795566502463|103.5295566502463|2979.4137931034484|15.519704433497521| 75.92118226600985|  NULL|\n",
            "| stddev|                NULL|   8.4017773522706|1.712159631548529|104.92245837948867|40.52065912106347| 847.0043282393513|2.8033588163425462|3.7487373454558743|  NULL|\n",
            "|    min|AMC Ambassador Br...|                 0|                3|             100.0|                0|             1613.|              10.0|                70|   CAT|\n",
            "|    max|        Volvo Diesel|            DOUBLE|              INT|            DOUBLE|           DOUBLE|            DOUBLE|            DOUBLE|               INT|    US|\n",
            "+-------+--------------------+------------------+-----------------+------------------+-----------------+------------------+------------------+------------------+------+\n",
            "\n"
          ]
        }
      ]
    },
    {
      "cell_type": "code",
      "source": [
        "\n",
        "data.select(data.Car,data.Model,data.Cylinders).distinct().show(truncate=False)"
      ],
      "metadata": {
        "colab": {
          "base_uri": "https://localhost:8080/"
        },
        "id": "P4bz6yjn1lcY",
        "outputId": "debe5bb3-f2c0-4a2c-8786-ed9a5a986c69"
      },
      "execution_count": 23,
      "outputs": [
        {
          "output_type": "stream",
          "name": "stdout",
          "text": [
            "+----------------------------+-----+---------+\n",
            "|Car                         |Model|Cylinders|\n",
            "+----------------------------+-----+---------+\n",
            "|Chevrolet Monte Carlo Landau|77   |8        |\n",
            "|Mazda RX-4                  |77   |3        |\n",
            "|Datsun 200SX                |81   |4        |\n",
            "|Hi 1200D                    |70   |8        |\n",
            "|Ford Mustang II             |75   |8        |\n",
            "|Pontiac Catalina            |70   |8        |\n",
            "|Mazda GLC Deluxe            |79   |4        |\n",
            "|AMC Rebel SST (sw)          |70   |8        |\n",
            "|Dodge Colt                  |76   |4        |\n",
            "|Renault Lecar Deluxe        |80   |4        |\n",
            "|Fiat 128                    |74   |4        |\n",
            "|Oldsmobile Omega Brougham   |79   |6        |\n",
            "|Plymouth Satellite (sw)     |70   |8        |\n",
            "|Volkswagen Super Beetle 117 |71   |4        |\n",
            "|Chrysler Newport Royal      |72   |8        |\n",
            "|Volkswagen Rabbit           |76   |4        |\n",
            "|Honda Accord                |80   |4        |\n",
            "|Toyota Tercel               |81   |4        |\n",
            "|Dodge Colt                  |74   |4        |\n",
            "|Volvo Diesel                |81   |6        |\n",
            "+----------------------------+-----+---------+\n",
            "only showing top 20 rows\n",
            "\n"
          ]
        }
      ]
    },
    {
      "cell_type": "markdown",
      "source": [
        "# **Agregar Nuevas Columnas**"
      ],
      "metadata": {
        "id": "DnDVfDxA64kL"
      }
    },
    {
      "cell_type": "code",
      "source": [
        "from pyspark.sql.functions import lit\n",
        "\n",
        "df = data.withColumn('Continents', lit('America')) \\\n",
        "          .withColumn('currency', lit('Dolar'))\n",
        "\n",
        "df.show(10, truncate=False)"
      ],
      "metadata": {
        "colab": {
          "base_uri": "https://localhost:8080/"
        },
        "id": "3lbfh4EN64OK",
        "outputId": "854a93ad-0295-4e83-bd20-3cf885a0c3b2"
      },
      "execution_count": 24,
      "outputs": [
        {
          "output_type": "stream",
          "name": "stdout",
          "text": [
            "+-------------------------+------+---------+------------+----------+------+------------+-----+------+----------+--------+\n",
            "|Car                      |MPG   |Cylinders|Displacement|Horsepower|Weight|Acceleration|Model|Origin|Continents|currency|\n",
            "+-------------------------+------+---------+------------+----------+------+------------+-----+------+----------+--------+\n",
            "|STRING                   |DOUBLE|INT      |DOUBLE      |DOUBLE    |DOUBLE|DOUBLE      |INT  |CAT   |America   |Dolar   |\n",
            "|Chevrolet Chevelle Malibu|18.0  |8        |307.0       |130.0     |3504. |12.0        |70   |US    |America   |Dolar   |\n",
            "|Buick Skylark 320        |15.0  |8        |350.0       |165.0     |3693. |11.5        |70   |US    |America   |Dolar   |\n",
            "|Plymouth Satellite       |18.0  |8        |318.0       |150.0     |3436. |11.0        |70   |US    |America   |Dolar   |\n",
            "|AMC Rebel SST            |16.0  |8        |304.0       |150.0     |3433. |12.0        |70   |US    |America   |Dolar   |\n",
            "|Ford Torino              |17.0  |8        |302.0       |140.0     |3449. |10.5        |70   |US    |America   |Dolar   |\n",
            "|Ford Galaxie 500         |15.0  |8        |429.0       |198.0     |4341. |10.0        |70   |US    |America   |Dolar   |\n",
            "|Chevrolet Impala         |14.0  |8        |454.0       |220.0     |4354. |9.0         |70   |US    |America   |Dolar   |\n",
            "|Plymouth Fury iii        |14.0  |8        |440.0       |215.0     |4312. |8.5         |70   |US    |America   |Dolar   |\n",
            "|Pontiac Catalina         |14.0  |8        |455.0       |225.0     |4425. |10.0        |70   |US    |America   |Dolar   |\n",
            "+-------------------------+------+---------+------------+----------+------+------------+-----+------+----------+--------+\n",
            "only showing top 10 rows\n",
            "\n"
          ]
        }
      ]
    },
    {
      "cell_type": "markdown",
      "source": [
        "# **Agrupar Columnas**"
      ],
      "metadata": {
        "id": "YzVlGmmk8Q3F"
      }
    },
    {
      "cell_type": "code",
      "source": [
        "df.groupBy( 'Origin','car').count().show(10)"
      ],
      "metadata": {
        "colab": {
          "base_uri": "https://localhost:8080/"
        },
        "id": "iyjh6gj16Uyi",
        "outputId": "1a604cfb-e1f5-488b-d1d2-9312363977a2"
      },
      "execution_count": 29,
      "outputs": [
        {
          "output_type": "stream",
          "name": "stdout",
          "text": [
            "+------+-------------------+-----+\n",
            "|Origin|                car|count|\n",
            "+------+-------------------+-----+\n",
            "|    US|         Ford Pinto|    6|\n",
            "| Japan|     Datsun B210 GX|    1|\n",
            "|    US|    Dodge Magnum XE|    1|\n",
            "|    US|        Ford Torino|    1|\n",
            "|Europe|          Opel 1900|    2|\n",
            "|    US|    Mercury Marquis|    1|\n",
            "| Japan|             Subaru|    2|\n",
            "|    US|          Ford F108|    1|\n",
            "|Europe|Volkswagen Rabbit l|    1|\n",
            "|    US|           Ford LTD|    2|\n",
            "+------+-------------------+-----+\n",
            "only showing top 10 rows\n",
            "\n"
          ]
        }
      ]
    },
    {
      "cell_type": "markdown",
      "source": [
        "# **Eliminar columna**"
      ],
      "metadata": {
        "id": "YtRW41Gb8-eG"
      }
    },
    {
      "cell_type": "code",
      "source": [
        "df = df.drop('Continents')\n",
        "df.show(10, truncate=False)"
      ],
      "metadata": {
        "colab": {
          "base_uri": "https://localhost:8080/"
        },
        "id": "-UcT5I-b9B-v",
        "outputId": "546e9d95-8d72-4fe5-9df9-45a50e60cc3d"
      },
      "execution_count": 31,
      "outputs": [
        {
          "output_type": "stream",
          "name": "stdout",
          "text": [
            "+-------------------------+------+---------+------------+----------+------+------------+-----+------+--------+\n",
            "|Car                      |MPG   |Cylinders|Displacement|Horsepower|Weight|Acceleration|Model|Origin|currency|\n",
            "+-------------------------+------+---------+------------+----------+------+------------+-----+------+--------+\n",
            "|STRING                   |DOUBLE|INT      |DOUBLE      |DOUBLE    |DOUBLE|DOUBLE      |INT  |CAT   |Dolar   |\n",
            "|Chevrolet Chevelle Malibu|18.0  |8        |307.0       |130.0     |3504. |12.0        |70   |US    |Dolar   |\n",
            "|Buick Skylark 320        |15.0  |8        |350.0       |165.0     |3693. |11.5        |70   |US    |Dolar   |\n",
            "|Plymouth Satellite       |18.0  |8        |318.0       |150.0     |3436. |11.0        |70   |US    |Dolar   |\n",
            "|AMC Rebel SST            |16.0  |8        |304.0       |150.0     |3433. |12.0        |70   |US    |Dolar   |\n",
            "|Ford Torino              |17.0  |8        |302.0       |140.0     |3449. |10.5        |70   |US    |Dolar   |\n",
            "|Ford Galaxie 500         |15.0  |8        |429.0       |198.0     |4341. |10.0        |70   |US    |Dolar   |\n",
            "|Chevrolet Impala         |14.0  |8        |454.0       |220.0     |4354. |9.0         |70   |US    |Dolar   |\n",
            "|Plymouth Fury iii        |14.0  |8        |440.0       |215.0     |4312. |8.5         |70   |US    |Dolar   |\n",
            "|Pontiac Catalina         |14.0  |8        |455.0       |225.0     |4425. |10.0        |70   |US    |Dolar   |\n",
            "+-------------------------+------+---------+------------+----------+------+------------+-----+------+--------+\n",
            "only showing top 10 rows\n",
            "\n"
          ]
        }
      ]
    },
    {
      "cell_type": "markdown",
      "source": [
        "# **Ordenar Filas y Count de Datos**"
      ],
      "metadata": {
        "id": "MVi5YnT2_F-C"
      }
    },
    {
      "cell_type": "code",
      "source": [
        "df.orderBy('Horsepower', ascending=False).show(truncate=False)"
      ],
      "metadata": {
        "colab": {
          "base_uri": "https://localhost:8080/"
        },
        "id": "qx7MxRhb-4Dk",
        "outputId": "5ead2737-b881-478b-c1ac-17e1d5d6a827"
      },
      "execution_count": 33,
      "outputs": [
        {
          "output_type": "stream",
          "name": "stdout",
          "text": [
            "+---------------------------+------+---------+------------+----------+------+------------+-----+------+--------+\n",
            "|Car                        |MPG   |Cylinders|Displacement|Horsepower|Weight|Acceleration|Model|Origin|currency|\n",
            "+---------------------------+------+---------+------------+----------+------+------------+-----+------+--------+\n",
            "|STRING                     |DOUBLE|INT      |DOUBLE      |DOUBLE    |DOUBLE|DOUBLE      |INT  |CAT   |Dolar   |\n",
            "|Volvo 244DL                |22.0  |4        |121.0       |98.00     |2945. |14.5        |75   |Europe|Dolar   |\n",
            "|Ford Grenada               |18.5  |6        |250.0       |98.00     |3525. |19.0        |77   |US    |Dolar   |\n",
            "|Toyota Corolla Mark II (sw)|23.0  |4        |120.0       |97.00     |2506. |14.5        |72   |Japan |Dolar   |\n",
            "|AMC Hornet                 |18.0  |6        |199.0       |97.00     |2774. |15.5        |70   |US    |Dolar   |\n",
            "|Mazda RX2 Coupe            |19.0  |3        |70.00       |97.00     |2330. |13.5        |72   |Japan |Dolar   |\n",
            "|Honda Civic                |24.0  |4        |120.0       |97.00     |2489. |15.0        |74   |Japan |Dolar   |\n",
            "|Datsun 710                 |24.0  |4        |119.0       |97.00     |2545. |17.0        |75   |Japan |Dolar   |\n",
            "|Ford Pinto                 |18.0  |6        |171.0       |97.00     |2984. |14.5        |75   |US    |Dolar   |\n",
            "|Datsun 810                 |22.0  |6        |146.0       |97.00     |2815. |14.5        |77   |Japan |Dolar   |\n",
            "|Datsun 510                 |27.2  |4        |119.0       |97.00     |2300. |14.7        |78   |Japan |Dolar   |\n",
            "|Datsun 200-SX              |23.9  |4        |119.0       |97.00     |2405. |14.9        |78   |Japan |Dolar   |\n",
            "|Toyota Corolla             |24.0  |4        |134.0       |96.00     |2702. |13.5        |75   |Japan |Dolar   |\n",
            "|Plymouth Arrow GS          |25.5  |4        |122.0       |96.00     |2300. |15.5        |77   |US    |Dolar   |\n",
            "|Toyota Celica GT           |32.0  |4        |144.0       |96.00     |2665. |13.9        |82   |Japan |Dolar   |\n",
            "|Toyota Corolla Mark ii     |24.0  |4        |113.0       |95.00     |2372. |15.0        |70   |Japan |Dolar   |\n",
            "|Plymouth Duster            |20.0  |6        |198.0       |95.00     |3102. |16.5        |74   |US    |Dolar   |\n",
            "|Plymouth Duster            |23.0  |6        |198.0       |95.00     |2904. |16.0        |73   |US    |Dolar   |\n",
            "|Saab 99e                   |25.0  |4        |104.0       |95.00     |2375. |17.5        |70   |Europe|Dolar   |\n",
            "|Plymouth Duster            |22.0  |6        |198.0       |95.00     |2833. |15.5        |70   |US    |Dolar   |\n",
            "+---------------------------+------+---------+------------+----------+------+------------+-----+------+--------+\n",
            "only showing top 20 rows\n",
            "\n"
          ]
        }
      ]
    },
    {
      "cell_type": "code",
      "source": [
        "df.groupBy('origin').count().orderBy('count',ascending = False).show()"
      ],
      "metadata": {
        "colab": {
          "base_uri": "https://localhost:8080/"
        },
        "id": "TVvVTZPh_rIJ",
        "outputId": "6f5bf10a-9f92-4496-bafd-68a6fcc4173c"
      },
      "execution_count": 37,
      "outputs": [
        {
          "output_type": "stream",
          "name": "stdout",
          "text": [
            "+------+-----+\n",
            "|origin|count|\n",
            "+------+-----+\n",
            "|    US|  254|\n",
            "| Japan|   79|\n",
            "|Europe|   73|\n",
            "|   CAT|    1|\n",
            "+------+-----+\n",
            "\n"
          ]
        }
      ]
    },
    {
      "cell_type": "markdown",
      "source": [
        "# **Filtrado de Datos**"
      ],
      "metadata": {
        "id": "J8OnNy1qAdg2"
      }
    },
    {
      "cell_type": "code",
      "source": [
        "\n",
        "filtered_df = df.filter((df.Origin == 'US')&(df.Cylinders == 4))\n",
        "filtered_df.show(10, truncate=False)\n",
        "\n",
        "\n",
        "print(\"\\nFilas con datos nulos en Horsepower:\")\n",
        "df.filter(df.Horsepower.isNull()).show(truncate=False)\n",
        "\n",
        "\n",
        "row_count = df.count()\n",
        "print(f\"\\nNumero de filas: {row_count}\")\n",
        "\n",
        "\n",
        "col_count = len(df.columns)\n",
        "print(f\"Numero de columnas: {col_count}\")\n",
        "\n",
        "print(\"\\nAnalisis descriptivo de los datos:\")\n",
        "df.describe().show()"
      ],
      "metadata": {
        "colab": {
          "base_uri": "https://localhost:8080/"
        },
        "id": "5y0zBb1MHGTR",
        "outputId": "922172ba-b806-42b2-8d2c-2ffd710acd34"
      },
      "execution_count": 60,
      "outputs": [
        {
          "output_type": "stream",
          "name": "stdout",
          "text": [
            "+-------------------+----+---------+------------+----------+------+------------+-----+------+--------+\n",
            "|Car                |MPG |Cylinders|Displacement|Horsepower|Weight|Acceleration|Model|Origin|currency|\n",
            "+-------------------+----+---------+------------+----------+------+------------+-----+------+--------+\n",
            "|Chevrolet Vega 2300|28.0|4        |140.0       |90.00     |2264. |15.5        |71   |US    |Dolar   |\n",
            "|Ford Pinto         |25.0|4        |98.00       |0         |2046. |19.0        |71   |US    |Dolar   |\n",
            "|Chevrolet Vega (sw)|22.0|4        |140.0       |72.00     |2408. |19.0        |71   |US    |Dolar   |\n",
            "|Mercury Capri 2000 |23.0|4        |122.0       |86.00     |2220. |14.0        |71   |US    |Dolar   |\n",
            "|Plymouth Cricket   |26.0|4        |91.00       |70.00     |1955. |20.5        |71   |US    |Dolar   |\n",
            "|Dodge Colt Hardtop |25.0|4        |97.50       |80.00     |2126. |17.0        |72   |US    |Dolar   |\n",
            "|Chevrolet Vega     |20.0|4        |140.0       |90.00     |2408. |19.5        |72   |US    |Dolar   |\n",
            "|Ford Pinto Runabout|21.0|4        |122.0       |86.00     |2226. |16.5        |72   |US    |Dolar   |\n",
            "|Ford Pinto (sw)    |22.0|4        |122.0       |86.00     |2395. |16.0        |72   |US    |Dolar   |\n",
            "|Dodge Colt (sw)    |28.0|4        |98.00       |80.00     |2164. |15.0        |72   |US    |Dolar   |\n",
            "+-------------------+----+---------+------------+----------+------+------------+-----+------+--------+\n",
            "only showing top 10 rows\n",
            "\n",
            "\n",
            "Filas con datos nulos en Horsepower:\n",
            "+---+---+---------+------------+----------+------+------------+-----+------+--------+\n",
            "|Car|MPG|Cylinders|Displacement|Horsepower|Weight|Acceleration|Model|Origin|currency|\n",
            "+---+---+---------+------------+----------+------+------------+-----+------+--------+\n",
            "+---+---+---------+------------+----------+------+------------+-----+------+--------+\n",
            "\n",
            "\n",
            "Numero de filas: 407\n",
            "Numero de columnas: 10\n",
            "\n",
            "Analisis descriptivo de los datos:\n",
            "+-------+--------------------+------------------+-----------------+------------------+-----------------+------------------+------------------+------------------+------+--------+\n",
            "|summary|                 Car|               MPG|        Cylinders|      Displacement|       Horsepower|            Weight|      Acceleration|             Model|Origin|currency|\n",
            "+-------+--------------------+------------------+-----------------+------------------+-----------------+------------------+------------------+------------------+------+--------+\n",
            "|  count|                 407|               407|              407|               407|              407|               407|               407|               407|   407|     407|\n",
            "|   mean|                NULL|23.051231527093602|5.475369458128079| 194.7795566502463|103.5295566502463|2979.4137931034484|15.519704433497521| 75.92118226600985|  NULL|    NULL|\n",
            "| stddev|                NULL|   8.4017773522706|1.712159631548529|104.92245837948867|40.52065912106347| 847.0043282393513|2.8033588163425462|3.7487373454558743|  NULL|    NULL|\n",
            "|    min|AMC Ambassador Br...|                 0|                3|             100.0|                0|             1613.|              10.0|                70|   CAT|   Dolar|\n",
            "|    max|        Volvo Diesel|            DOUBLE|              INT|            DOUBLE|           DOUBLE|            DOUBLE|            DOUBLE|               INT|    US|   Dolar|\n",
            "+-------+--------------------+------------------+-----------------+------------------+-----------------+------------------+------------------+------------------+------+--------+\n",
            "\n"
          ]
        }
      ]
    },
    {
      "cell_type": "code",
      "source": [
        "# Guardar en parquet\n",
        "Salida_parquet = 'transformed_cars.parquet'\n",
        "df.write.mode('overwrite').parquet(Salida_parquet)\n",
        "\n",
        "print(f\"Df guardado en Parquet{Salida_parquet}\")\n"
      ],
      "metadata": {
        "colab": {
          "base_uri": "https://localhost:8080/"
        },
        "id": "3qPq2ODmLnim",
        "outputId": "090e93c6-f8ff-4593-c79f-e99356c7116a"
      },
      "execution_count": 62,
      "outputs": [
        {
          "output_type": "stream",
          "name": "stdout",
          "text": [
            "Df guardado en Parquettransformed_cars.parquet\n"
          ]
        }
      ]
    }
  ]
}